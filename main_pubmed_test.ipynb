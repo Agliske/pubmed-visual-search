{
 "cells": [
  {
   "cell_type": "code",
   "execution_count": 1,
   "metadata": {},
   "outputs": [],
   "source": [
    "from pubmedFetcher import pubmedResults\n",
    "from glyphilator import wordlists_from_folder,generateGlyphInput,constructBasicGlyphs,chooseBasicColors\n",
    "import datetime\n",
    "import os\n",
    "import pathlib\n",
    "import shutil\n",
    "\n",
    "search_url = r\"https://pubmed.ncbi.nlm.nih.gov/?term=ttis&size=200\"\n",
    "wordlists_path = r\"C:\\Users\\aglis\\Documents\\Python_Projects\\DaveArticleScraper\\wordlists\\group_1\""
   ]
  },
  {
   "cell_type": "code",
   "execution_count": 2,
   "metadata": {},
   "outputs": [
    {
     "name": "stdout",
     "output_type": "stream",
     "text": [
      "Wordlists generated\n"
     ]
    }
   ],
   "source": [
    "wordlists = wordlists_from_folder(wordlists_path)\n",
    "print(\"Wordlists generated\")"
   ]
  },
  {
   "cell_type": "code",
   "execution_count": 3,
   "metadata": {},
   "outputs": [
    {
     "name": "stdout",
     "output_type": "stream",
     "text": [
      "Articles Processed:  1 / 6\n",
      "Articles Processed:  2 / 6\n",
      "Articles Processed:  3 / 6\n",
      "Articles Processed:  4 / 6\n",
      "Articles Processed:  5 / 6\n",
      "Articles Processed:  6 / 6\n",
      "articleData compiled\n"
     ]
    }
   ],
   "source": [
    "articleData = pubmedResults(search_url=search_url, num_results_requested=6)\n",
    "print(\"articleData compiled\")"
   ]
  },
  {
   "cell_type": "code",
   "execution_count": 4,
   "metadata": {},
   "outputs": [
    {
     "name": "stdout",
     "output_type": "stream",
     "text": [
      "Abstract parsed 1 / 6\n",
      "Abstract parsed 2 / 6\n",
      "Abstract parsed 3 / 6\n",
      "Abstract parsed 4 / 6\n",
      "Abstract parsed 5 / 6\n",
      "Abstract parsed 6 / 6\n"
     ]
    }
   ],
   "source": [
    "allGlyphData = generateGlyphInput(articleData=articleData,wordlists=wordlists)"
   ]
  },
  {
   "cell_type": "code",
   "execution_count": 5,
   "metadata": {},
   "outputs": [
    {
     "name": "stdout",
     "output_type": "stream",
     "text": [
      "len glyphLocations =  6\n",
      "False iteration =  0\n",
      "Constructed Glyph  1 / 6\n",
      "False iteration =  1\n",
      "Constructed Glyph  2 / 6\n",
      "False iteration =  2\n"
     ]
    },
    {
     "name": "stderr",
     "output_type": "stream",
     "text": [
      "c:\\Users\\aglis\\Documents\\Python_Projects\\DaveArticleScraper\\glyphilator.py:268: FutureWarning: Setting an item of incompatible dtype is deprecated and will raise an error in a future version of pandas. Value '<a href=\"https://pubmed.ncbi.nlm.nih.gov/33307539/\">Multi-channel transcranial temporally interfering stimulation (tTIS): application to living mice brain<a>' has dtype incompatible with float64, please explicitly cast to a compatible dtype first.\n",
      "  working_root_tags.loc[working_root_tags.index[0],'title'] = generateTitleURLTag(articleData[i])\n",
      "c:\\Users\\aglis\\Documents\\Python_Projects\\DaveArticleScraper\\glyphilator.py:268: FutureWarning: Setting an item of incompatible dtype is deprecated and will raise an error in a future version of pandas. Value '<a href=\"https://pubmed.ncbi.nlm.nih.gov/35839572/\">Benchmarking the effects of transcranial temporal interference stimulation (tTIS) in humans<a>' has dtype incompatible with float64, please explicitly cast to a compatible dtype first.\n",
      "  working_root_tags.loc[working_root_tags.index[0],'title'] = generateTitleURLTag(articleData[i])\n",
      "c:\\Users\\aglis\\Documents\\Python_Projects\\DaveArticleScraper\\glyphilator.py:268: FutureWarning: Setting an item of incompatible dtype is deprecated and will raise an error in a future version of pandas. Value '<a href=\"https://pubmed.ncbi.nlm.nih.gov/37857774/\">Noninvasive theta-burst stimulation of the human striatum enhances striatal activity and motor skill learning<a>' has dtype incompatible with float64, please explicitly cast to a compatible dtype first.\n",
      "  working_root_tags.loc[working_root_tags.index[0],'title'] = generateTitleURLTag(articleData[i])\n"
     ]
    },
    {
     "name": "stdout",
     "output_type": "stream",
     "text": [
      "Constructed Glyph  3 / 6\n",
      "False iteration =  3\n",
      "Constructed Glyph  4 / 6\n",
      "False iteration =  4\n",
      "Constructed Glyph  5 / 6\n",
      "False iteration =  5\n",
      "Constructed Glyph  6 / 6\n",
      "True iteration =  6\n",
      "[(-10, -10), (-10, 0), (-10, 10), (0, -10), (0, 0), (0, 10)]\n",
      "[(0, 0), (0, 10)]\n"
     ]
    },
    {
     "name": "stderr",
     "output_type": "stream",
     "text": [
      "c:\\Users\\aglis\\Documents\\Python_Projects\\DaveArticleScraper\\glyphilator.py:268: FutureWarning: Setting an item of incompatible dtype is deprecated and will raise an error in a future version of pandas. Value '<a href=\"https://pubmed.ncbi.nlm.nih.gov/34645895/\">Interindividual variability of electric fields during transcranial temporal interference stimulation (tTIS)<a>' has dtype incompatible with float64, please explicitly cast to a compatible dtype first.\n",
      "  working_root_tags.loc[working_root_tags.index[0],'title'] = generateTitleURLTag(articleData[i])\n",
      "c:\\Users\\aglis\\Documents\\Python_Projects\\DaveArticleScraper\\glyphilator.py:268: FutureWarning: Setting an item of incompatible dtype is deprecated and will raise an error in a future version of pandas. Value '<a href=\"https://pubmed.ncbi.nlm.nih.gov/38607595/\">Transfusion-transmitted infections<a>' has dtype incompatible with float64, please explicitly cast to a compatible dtype first.\n",
      "  working_root_tags.loc[working_root_tags.index[0],'title'] = generateTitleURLTag(articleData[i])\n",
      "c:\\Users\\aglis\\Documents\\Python_Projects\\DaveArticleScraper\\glyphilator.py:268: FutureWarning: Setting an item of incompatible dtype is deprecated and will raise an error in a future version of pandas. Value '<a href=\"https://pubmed.ncbi.nlm.nih.gov/38997805/\">Transcranial temporal interference stimulation (tTIS) influences event-related alpha activity during mental rotation<a>' has dtype incompatible with float64, please explicitly cast to a compatible dtype first.\n",
      "  working_root_tags.loc[working_root_tags.index[0],'title'] = generateTitleURLTag(articleData[i])\n"
     ]
    },
    {
     "name": "stdout",
     "output_type": "stream",
     "text": [
      "Constructed Glyph  7 / 6\n",
      "Key Glyph Generated in Top Right Corner\n"
     ]
    }
   ],
   "source": [
    "antzfile,tagfile = constructBasicGlyphs(allGlyphData,articleData)"
   ]
  },
  {
   "cell_type": "code",
   "execution_count": 9,
   "metadata": {},
   "outputs": [],
   "source": [
    "antzfile.to_csv(r\"C:\\Users\\aglis\\Documents\\Python_Projects\\DaveArticleScraper\\antz\\gaia_2024-07-24_app_v2\\User\\Prototypes\\0_DO_NOT_DELETE - Copy\\articleScraperOutput\\csv\\articleScraperOutput_np_node.csv\",index=False,encoding=\"utf-8\")\n",
    "tagfile.to_csv(r\"C:\\Users\\aglis\\Documents\\Python_Projects\\DaveArticleScraper\\antz\\gaia_2024-07-24_app_v2\\User\\Prototypes\\0_DO_NOT_DELETE - Copy\\articleScraperOutput\\csv\\articleScraperOutput_np_tag.csv\",index=False,encoding=\"utf-8\")"
   ]
  },
  {
   "cell_type": "code",
   "execution_count": null,
   "metadata": {},
   "outputs": [],
   "source": [
    "cwd = os.getcwd()\n",
    "\n",
    "#create a new directory each time the button is pressed, storing the new viz\n",
    "current_date = str(datetime.datetime.now().strftime('%Y-%m-%d'))\n",
    "\n",
    "current_time = datetime.datetime.now().strftime('%H%M%S')\n",
    "\n",
    "date_directory_path = os.path.join(cwd,'antz','gaia_2024-07-24_app_v2','User','Prototypes', current_date)\n",
    "\n",
    "    #making the date directory in antz/user/prototypes\n",
    "try:\n",
    "    os.mkdir(date_directory_path)\n",
    "except OSError:\n",
    "    pass\n",
    "\n",
    "time_directory_path = os.path.join(date_directory_path,current_time)\n",
    "\n",
    "\n",
    "os.mkdir(time_directory_path)\n",
    "directory1 = pathlib.Path(os.path.join(cwd,\"antz\",\"gaia_2024-07-24_app_v2\", \"User\", \"Prototypes\", \"0_DO_NOT_DELETE\", \"articleScraperOutput\"))\n",
    "\n",
    "for file in directory1.rglob(\"*\"):\n",
    "    print(file)\n",
    "    destination = time_directory_path / file.relative_to(directory1)\n",
    "\n",
    "    if file.is_file():\n",
    "        # Ensure parent directory exists in destination, then copy the file\n",
    "        # time_directory_path.parent.mkdir(parents=True, exist_ok=True)\n",
    "        shutil.copy(file, destination)\n",
    "    elif file.is_dir():\n",
    "        # Ensure the directory exists in the destination\n",
    "        destination.mkdir(parents=True, exist_ok=True)\n",
    "\n",
    "\n",
    "# node_filename = str(current_time) + \"_np_node.csv\"\n",
    "# tag_filename = str(current_time) + \"_np_tag.csv\"\n",
    "# #replacing articleScraperOutput_np_node, and articleScraperOutput_np_tag with our newly calculated versions\n",
    "# os.remove(str(os.path.join(time_directory_path,'csv',\"articleScraperOutput_np_node.csv\")))\n",
    "# os.remove(str(os.path.join(time_directory_path,'csv',\"articleScraperOutput_np_tag.csv\")))\n",
    "\n",
    "# antzfile.to_csv(str(os.path.join(time_directory_path,'csv',\"articleScraperOutput_np_node.csv\")),index=False,encoding=\"utf-8\")\n",
    "# tagfile.to_csv(str(os.path.join(time_directory_path,'csv',\"articleScraperOutput_np_tag.csv\")),index=False,encoding=\"utf-8\")\n",
    "\n",
    "# antzfile.to_csv(r\"C:\\Users\\aglis\\Documents\\Python_Projects\\DaveArticleScraper\\antz\\gaia_2024-07-24_app_v2\\User\\Prototypes\\2024-11-07\\52148\\csv\\articleScraperOutput_np_node.csv\")\n",
    "# tagfile.to_csv(r\"C:\\Users\\aglis\\Documents\\Python_Projects\\DaveArticleScraper\\antz\\gaia_2024-07-24_app_v2\\User\\Prototypes\\2024-11-07\\52148\\csv\\articleScraperOutput_np_tag.csv\")"
   ]
  }
 ],
 "metadata": {
  "kernelspec": {
   "display_name": ".venv",
   "language": "python",
   "name": "python3"
  },
  "language_info": {
   "codemirror_mode": {
    "name": "ipython",
    "version": 3
   },
   "file_extension": ".py",
   "mimetype": "text/x-python",
   "name": "python",
   "nbconvert_exporter": "python",
   "pygments_lexer": "ipython3",
   "version": "3.12.3"
  }
 },
 "nbformat": 4,
 "nbformat_minor": 2
}
